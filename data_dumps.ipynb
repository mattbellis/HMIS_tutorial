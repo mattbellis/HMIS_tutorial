{
 "cells": [
  {
   "cell_type": "code",
   "execution_count": null,
   "metadata": {
    "collapsed": true
   },
   "outputs": [],
   "source": [
    "# Import some standard modules\n",
    "\n",
    "import numpy as np\n",
    "import matplotlib.pylab as plt\n",
    "\n",
    "%matplotlib notebook\n",
    "\n",
    "import hmis\n",
    "\n",
    "from datetime import datetime\n",
    "\n",
    "import seaborn as sn\n",
    "sn.set()"
   ]
  },
  {
   "cell_type": "code",
   "execution_count": null,
   "metadata": {
    "collapsed": true
   },
   "outputs": [],
   "source": [
    "# Get the data!\n",
    "\n",
    "data = hmis.read_dictionary_file('CARESNY_data_NEW.pkl')"
   ]
  },
  {
   "cell_type": "code",
   "execution_count": null,
   "metadata": {
    "collapsed": true
   },
   "outputs": [],
   "source": [
    "# Can get a list of the project types\n",
    "\n",
    "ptypes = hmis.project_types()\n",
    "nptypes = len(ptypes)"
   ]
  },
  {
   "cell_type": "code",
   "execution_count": null,
   "metadata": {},
   "outputs": [],
   "source": [
    "outfile = open(\"CARES_subset_for_Rong.csv\",'w')\n",
    "\n",
    "output = \"Personal ID,DOB\"\n",
    "for pt in ptypes:\n",
    "    output += \",%s\" % (pt)\n",
    "output += \"\\n\"\n",
    "print(output)\n",
    "outfile.write(output)\n",
    "\n",
    "for person in data[0:]:\n",
    "    projects = person[\"Programs\"]\n",
    "    nums = np.zeros(nptypes,dtype=int)\n",
    "    #print(nums)\n",
    "    \n",
    "    output = \"%s,%s,\" % (person[\"Personal ID\"],person[\"DOB\"])\n",
    "    for i,proj in enumerate(projects):\n",
    "        pt = proj['Project type']\n",
    "        ind = ptypes.index(pt)\n",
    "        #print(ind)\n",
    "        nums[ind] += 1\n",
    "    #print(person[\"Personal ID\"],person[\"DOB\"],nums)\n",
    "    output += \",\".join(nums.astype(str))\n",
    "    output += \"\\n\"\n",
    "    #print(output)\n",
    "    outfile.write(output)\n",
    "outfile.close()"
   ]
  },
  {
   "cell_type": "code",
   "execution_count": null,
   "metadata": {
    "collapsed": true
   },
   "outputs": [],
   "source": []
  }
 ],
 "metadata": {
  "kernelspec": {
   "display_name": "Python 3",
   "language": "python",
   "name": "python3"
  },
  "language_info": {
   "codemirror_mode": {
    "name": "ipython",
    "version": 3
   },
   "file_extension": ".py",
   "mimetype": "text/x-python",
   "name": "python",
   "nbconvert_exporter": "python",
   "pygments_lexer": "ipython3",
   "version": "3.6.2"
  }
 },
 "nbformat": 4,
 "nbformat_minor": 2
}
