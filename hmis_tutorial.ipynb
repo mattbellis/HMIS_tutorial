{
 "cells": [
  {
   "cell_type": "code",
   "execution_count": null,
   "metadata": {
    "collapsed": true
   },
   "outputs": [],
   "source": [
    "# Import some standard modules\n",
    "\n",
    "import numpy as np\n",
    "import matplotlib.pylab as plt\n",
    "\n",
    "%matplotlib notebook\n",
    "\n",
    "import hmis\n",
    "\n",
    "from datetime import datetime\n",
    "\n",
    "import seaborn as sn\n",
    "sn.set()"
   ]
  },
  {
   "cell_type": "markdown",
   "metadata": {},
   "source": [
    "# Get the data and look at it"
   ]
  },
  {
   "cell_type": "code",
   "execution_count": null,
   "metadata": {},
   "outputs": [],
   "source": [
    "# Get the data!\n",
    "\n",
    "data = hmis.read_dictionary_file('CARESNY_data_NEW.pkl')"
   ]
  },
  {
   "cell_type": "code",
   "execution_count": null,
   "metadata": {},
   "outputs": [],
   "source": [
    "# How many entries are there? \n",
    "# Just check the length!\n",
    "\n",
    "print(len(data))\n",
    "print(type(data))"
   ]
  },
  {
   "cell_type": "code",
   "execution_count": null,
   "metadata": {},
   "outputs": [],
   "source": [
    "# Inspect the first record. Remember, counting starts at 0!\n",
    "\n",
    "data[1500]"
   ]
  },
  {
   "cell_type": "code",
   "execution_count": null,
   "metadata": {},
   "outputs": [],
   "source": [
    "# Inspect the first 10 records!\n",
    "\n",
    "hmis.pretty_print(data[0:10])"
   ]
  },
  {
   "cell_type": "code",
   "execution_count": null,
   "metadata": {
    "collapsed": true
   },
   "outputs": [],
   "source": []
  },
  {
   "cell_type": "code",
   "execution_count": null,
   "metadata": {},
   "outputs": [],
   "source": [
    "# Can get a list of the project types\n",
    "\n",
    "ptypes = hmis.project_types()\n",
    "nptypes = len(ptypes)\n",
    "\n",
    "print(nptypes)\n",
    "print(ptypes)"
   ]
  },
  {
   "cell_type": "markdown",
   "metadata": {},
   "source": [
    "# Data science!"
   ]
  },
  {
   "cell_type": "code",
   "execution_count": null,
   "metadata": {
    "collapsed": true
   },
   "outputs": [],
   "source": [
    "person = data[16779]\n",
    "\n",
    "person[\"Programs\"]"
   ]
  },
  {
   "cell_type": "code",
   "execution_count": null,
   "metadata": {
    "collapsed": true,
    "scrolled": true
   },
   "outputs": [],
   "source": [
    "# Look at the records of people who have more than 30 recorded projects\n",
    "# with which they are associated\n",
    "\n",
    "for i,person in enumerate(data):\n",
    "    if len(person[\"Programs\"])>35:\n",
    "        hmis.pretty_print(person)\n",
    "        print(i,person[\"DOB\"],person[\"Personal ID\"])"
   ]
  },
  {
   "cell_type": "markdown",
   "metadata": {},
   "source": [
    "Let's now try to answer a very specific question:\n",
    "\n",
    "*What is the distribution of ages of people who have stayed at least 1 night in an emergency shelter?*\n",
    "\n",
    "We would want to look at this as a function of year, because people age. :)"
   ]
  },
  {
   "cell_type": "code",
   "execution_count": null,
   "metadata": {
    "collapsed": true,
    "scrolled": true
   },
   "outputs": [],
   "source": [
    "# Make a list of the years we want to look at\n",
    "years = [2011,2012,2013,2014,2015,2016]\n",
    "\n",
    "# Define the project of interest\n",
    "#project_of_interest = 'Emergency Shelter'\n",
    "project_of_interest = 'PH - Rapid Re-Housing'\n",
    "\n",
    "# Let's store the information in a dictionary\n",
    "ages = {}\n",
    "\n",
    "# Loop over the years. \n",
    "# Note that by using \"enumerate\" we also have a \"counter\" in \"i\"\n",
    "for i,year in enumerate(years):\n",
    "    \n",
    "    print(year)\n",
    "    \n",
    "    # For each year, we will create a list into which we will put the ages of people.\n",
    "    key = str(year) # They key needs to be a string\n",
    "    ages[key] = []\n",
    "    \n",
    "    # Loop over each person in our data\n",
    "    for person in data:\n",
    "        \n",
    "        # Loop over every program they've been in \n",
    "        for program in person[\"Programs\"]:\n",
    "            \n",
    "            # Get the date they were in that program\n",
    "            date = hmis.get_date_from_string(program['Admission date'])\n",
    "\n",
    "            # If they were in the project we're interested in during the year that we're looping over...\n",
    "            if program[\"Project type\"] == project_of_interest and date.year==year:\n",
    "                \n",
    "                # Get their age at the end of that year\n",
    "                dob = hmis.get_date_from_string(person['DOB'])\n",
    "                age = datetime(year,12,31)-dob\n",
    "                age = age.days/365. # Convert to years\n",
    "                \n",
    "                ages[key].append(age)\n",
    "\n",
    "                break \n",
    "                # We can break out of the loop once we find one instance\n",
    "                # This saves us some computing time and makes sure we don't \n",
    "                # double/triple/etc-count ages"
   ]
  },
  {
   "cell_type": "code",
   "execution_count": null,
   "metadata": {
    "collapsed": true
   },
   "outputs": [],
   "source": [
    "#ages[\"2014\"]"
   ]
  },
  {
   "cell_type": "code",
   "execution_count": null,
   "metadata": {
    "collapsed": true
   },
   "outputs": [],
   "source": [
    "# Once we've got the data in our ages dictionary, we can do all sorts of cool\n",
    "# plotting stuff with it!\n",
    "\n",
    "# Pull out the number of people in each year\n",
    "num = []\n",
    "for year in years:\n",
    "    key = str(year)\n",
    "    num.append(len(ages[key]))\n",
    "    \n",
    "plt.figure()\n",
    "plt.plot(years,num,'o',markersize=20)\n",
    "plt.xlabel('Year',fontsize=18)\n",
    "plt.ylabel('# of people',fontsize=18)\n",
    "plt.title('# of people who used an Emergency Shelter at least once',fontsize=12)\n"
   ]
  },
  {
   "cell_type": "code",
   "execution_count": null,
   "metadata": {
    "collapsed": true
   },
   "outputs": [],
   "source": [
    "# Get the ages and plot them in a box plot\n",
    "\n",
    "values = []\n",
    "for year in years:\n",
    "    key = str(year)\n",
    "    x = np.array(ages[key])\n",
    "    x = x[x<90]\n",
    "    values.append(x)\n",
    "\n",
    "plt.figure()\n",
    "plt.boxplot(values,labels=years)\n",
    "\n",
    "plt.xlabel('Year',fontsize=18)\n",
    "plt.ylabel('Age (years)',fontsize=18)\n",
    "plt.title('Age of people who used an Emergency Shelter at least once',fontsize=12)\n"
   ]
  },
  {
   "cell_type": "code",
   "execution_count": null,
   "metadata": {
    "collapsed": true
   },
   "outputs": [],
   "source": [
    "# Violin plot\n",
    "# This shows a bit more of the distribution of data\n",
    "\n",
    "plt.figure()\n",
    "\n",
    "# We have to cut out the entries that are 0\n",
    "plt.violinplot(values[1:],years[1:])\n",
    "\n",
    "plt.xlabel('Year',fontsize=18)\n",
    "plt.ylabel('Age (years)',fontsize=18)\n",
    "plt.title('Age of people who used an Emergency Shelter at least once',fontsize=12)\n"
   ]
  },
  {
   "cell_type": "code",
   "execution_count": null,
   "metadata": {
    "collapsed": true
   },
   "outputs": [],
   "source": [
    "# Histograms!\n",
    "\n",
    "# We could do each histogram by hand...\n",
    "plt.figure()\n",
    "plt.subplot(2,2,1)\n",
    "plt.hist(values[2],label='2013')\n",
    "plt.legend()"
   ]
  },
  {
   "cell_type": "code",
   "execution_count": null,
   "metadata": {
    "collapsed": true,
    "scrolled": false
   },
   "outputs": [],
   "source": [
    "#...but better to automate things in a loop\n",
    "\n",
    "plt.figure(figsize=(10,8))\n",
    "\n",
    "for i in range(2,6):\n",
    "    plt.subplot(2,2,i-1)\n",
    "    label = str(2011+i)\n",
    "    plt.hist(values[i],label=label,bins=25,range=(0,80))\n",
    "    plt.ylim(0,200)\n",
    "    plt.legend()\n",
    "    \n",
    "plt.savefig('plots.png')"
   ]
  },
  {
   "cell_type": "code",
   "execution_count": null,
   "metadata": {
    "collapsed": true
   },
   "outputs": [],
   "source": [
    "# Plot the average ages for each year\n",
    "\n",
    "for v in values:\n",
    "    print(np.mean(v))"
   ]
  },
  {
   "cell_type": "markdown",
   "metadata": {},
   "source": [
    "When you're done with this, go back and look at the distributions for another Project Type like 'Transitional Housing'."
   ]
  },
  {
   "cell_type": "markdown",
   "metadata": {},
   "source": [
    "# Maps"
   ]
  },
  {
   "cell_type": "code",
   "execution_count": null,
   "metadata": {
    "collapsed": true
   },
   "outputs": [],
   "source": [
    "zipcodes = {}\n",
    "zipcodes[\"Albany\"] = [12023,12193,12202,12203,12204,12205,12206,12041,\n",
    "12207,12208,12209,12045,12210,12046,12211,12047,\n",
    "12053,12054,12059,12233,12234,12067,12077,12083,\n",
    "12250,12084,12085,12087,12260,12303,12107,12304,\n",
    "12110,12309,12120,12128,12143,12147,12158,12159,\n",
    "12161,12007,12009,12460,12183,12186,12189,12469]"
   ]
  },
  {
   "cell_type": "code",
   "execution_count": null,
   "metadata": {
    "collapsed": true
   },
   "outputs": [],
   "source": [
    "import folium\n",
    "import zipcode\n",
    "\n",
    "# Albany\n",
    "lat = 42.65\n",
    "lon = -73.75\n",
    "\n",
    "mymap = folium.Map(location=[lat,lon],\n",
    "                   zoom_start=10,\n",
    "                   tiles='Stamen Terrain')\n",
    "\n",
    "folium.Marker([lat,lon], popup='Albany, NY').add_to(mymap)\n",
    "\n",
    "# Add markers for the different zip code centers\n",
    "for zc in zipcodes[\"Albany\"]:\n",
    "    myzip = zipcode.isequal(str(zc))\n",
    "    lat, lon = myzip.lat, myzip.lon\n",
    "    name = \"%s npeople: %d\" % (str(zc),np.random.randint(45))\n",
    "    folium.Marker([lat,lon], popup=name).add_to(mymap)\n",
    "\n",
    "\n",
    "# Display the map\n",
    "mymap"
   ]
  },
  {
   "cell_type": "code",
   "execution_count": null,
   "metadata": {
    "collapsed": true
   },
   "outputs": [],
   "source": [
    "12210 in zipcodes[\"Albany\"]"
   ]
  },
  {
   "cell_type": "code",
   "execution_count": null,
   "metadata": {
    "collapsed": true
   },
   "outputs": [],
   "source": []
  }
 ],
 "metadata": {
  "kernelspec": {
   "display_name": "Python 3",
   "language": "python",
   "name": "python3"
  },
  "language_info": {
   "codemirror_mode": {
    "name": "ipython",
    "version": 3
   },
   "file_extension": ".py",
   "mimetype": "text/x-python",
   "name": "python",
   "nbconvert_exporter": "python",
   "pygments_lexer": "ipython3",
   "version": "3.6.2"
  }
 },
 "nbformat": 4,
 "nbformat_minor": 2
}
