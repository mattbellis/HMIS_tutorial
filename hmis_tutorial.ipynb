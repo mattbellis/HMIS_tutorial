{
 "cells": [
  {
   "cell_type": "code",
   "execution_count": null,
   "metadata": {},
   "outputs": [],
   "source": [
    "# Import some standard modules\n",
    "\n",
    "import numpy as np\n",
    "import matplotlib.pylab as plt\n",
    "\n",
    "%matplotlib notebook\n",
    "\n",
    "import hmis\n",
    "\n",
    "from datetime import datetime"
   ]
  },
  {
   "cell_type": "code",
   "execution_count": null,
   "metadata": {},
   "outputs": [],
   "source": [
    "# Get the data!\n",
    "\n",
    "data = hmis.read_dictionary_file('hmis_data_test.pkl')"
   ]
  },
  {
   "cell_type": "code",
   "execution_count": null,
   "metadata": {},
   "outputs": [],
   "source": [
    "print(len(data))"
   ]
  },
  {
   "cell_type": "code",
   "execution_count": null,
   "metadata": {},
   "outputs": [],
   "source": [
    "data[0]"
   ]
  },
  {
   "cell_type": "code",
   "execution_count": null,
   "metadata": {},
   "outputs": [],
   "source": [
    "hmis.pretty_print(data[0:10])"
   ]
  },
  {
   "cell_type": "code",
   "execution_count": null,
   "metadata": {},
   "outputs": [],
   "source": [
    "hmis.project_types()"
   ]
  },
  {
   "cell_type": "code",
   "execution_count": null,
   "metadata": {
    "scrolled": false
   },
   "outputs": [],
   "source": [
    "for i,person in enumerate(data):\n",
    "    if len(person[\"Programs\"])>30:\n",
    "        hmis.pretty_print(person)\n",
    "        print(i,person[\"DOB\"],person[\"Personal ID\"])"
   ]
  },
  {
   "cell_type": "code",
   "execution_count": null,
   "metadata": {
    "scrolled": true
   },
   "outputs": [],
   "source": [
    "years = [2011,2012,2013,2014,2015,2016]\n",
    "\n",
    "project_of_interest = 'Emergency Shelter'\n",
    "#project_of_interest = 'Transitional Housing'\n",
    "\n",
    "ages = {}\n",
    "for i,year in enumerate(years):\n",
    "    print(year)\n",
    "    ages[str(year)] = []\n",
    "    for person in data:\n",
    "        \n",
    "        for program in person[\"Programs\"]:\n",
    "            date = hmis.get_date_from_string(program['Admission date'])\n",
    "\n",
    "            if program[\"Project type\"] == project_of_interest and date.year==year:\n",
    "                dob = hmis.get_date_from_string(person['DOB'])\n",
    "                age = datetime(year,12,31)-dob\n",
    "                age = age.days/365. # Convert to years\n",
    "                #print(dob,age)\n",
    "                ages[str(year)].append(age)\n",
    "                break"
   ]
  },
  {
   "cell_type": "code",
   "execution_count": null,
   "metadata": {},
   "outputs": [],
   "source": [
    "num = []\n",
    "for year in years:\n",
    "    key = str(year)\n",
    "    num.append(len(ages[key]))\n",
    "    \n",
    "plt.figure()\n",
    "plt.plot(years,num,'o',markersize=20)\n",
    "plt.xlabel('Year',fontsize=18)\n",
    "plt.ylabel('# of people',fontsize=18)\n",
    "plt.title('# of people who used an Emergency Shelter at least once',fontsize=12)\n"
   ]
  },
  {
   "cell_type": "code",
   "execution_count": null,
   "metadata": {},
   "outputs": [],
   "source": [
    "values = []\n",
    "for year in years:\n",
    "    key = str(year)\n",
    "    x = np.array(ages[key])\n",
    "    x = x[x<90]\n",
    "    values.append(x)\n",
    "\n",
    "plt.figure()\n",
    "plt.boxplot(values,labels=years)\n",
    "plt.xlabel('Year',fontsize=18)\n",
    "plt.ylabel('Age (years)',fontsize=18)\n",
    "plt.title('Age of people who used an Emergency Shelter at least once',fontsize=12)\n"
   ]
  },
  {
   "cell_type": "code",
   "execution_count": null,
   "metadata": {},
   "outputs": [],
   "source": [
    "plt.figure()\n",
    "\n",
    "# We have to cut out the entries that are 0\n",
    "plt.violinplot(values[2:-1],years[2:-1])\n",
    "\n",
    "plt.xlabel('Year',fontsize=18)\n",
    "plt.ylabel('Age (years)',fontsize=18)\n",
    "plt.title('Age of people who used an Emergency Shelter at least once',fontsize=12)\n"
   ]
  },
  {
   "cell_type": "code",
   "execution_count": null,
   "metadata": {},
   "outputs": [],
   "source": [
    "plt.figure()\n",
    "plt.subplot(2,2,1)\n",
    "plt.hist(values[2],label='2013')\n",
    "plt.legend()"
   ]
  },
  {
   "cell_type": "code",
   "execution_count": null,
   "metadata": {},
   "outputs": [],
   "source": [
    "plt.figure()\n",
    "\n",
    "for i in range(2,6):\n",
    "    plt.subplot(2,2,i-1)\n",
    "    label = str(2011+i)\n",
    "    plt.hist(values[i],label=label,bins=25,range=(0,80))\n",
    "    plt.legend()"
   ]
  },
  {
   "cell_type": "code",
   "execution_count": null,
   "metadata": {},
   "outputs": [],
   "source": [
    "for v in values:\n",
    "    print(np.mean(v))"
   ]
  },
  {
   "cell_type": "code",
   "execution_count": null,
   "metadata": {
    "collapsed": true
   },
   "outputs": [],
   "source": []
  }
 ],
 "metadata": {
  "kernelspec": {
   "display_name": "Python 3",
   "language": "python",
   "name": "python3"
  },
  "language_info": {
   "codemirror_mode": {
    "name": "ipython",
    "version": 3
   },
   "file_extension": ".py",
   "mimetype": "text/x-python",
   "name": "python",
   "nbconvert_exporter": "python",
   "pygments_lexer": "ipython3",
   "version": "3.6.2"
  }
 },
 "nbformat": 4,
 "nbformat_minor": 2
}
