{
 "cells": [
  {
   "cell_type": "markdown",
   "metadata": {},
   "source": [
    "# Reference slides\n",
    "\n",
    "* [Learn to program](https://docs.google.com/presentation/d/1PWDfDTinIrdGAGW6J_StaVYsecGKgb7LlljjvJzDK0s/edit?usp=sharing)\n",
    "* [Editors](https://docs.google.com/presentation/d/1vbbOKu1HB10GNUs7_uMZqCZUM0WhLT4-FFXjwMiHwlI/edit#slide=id.p)\n",
    "* [Conditionals](https://docs.google.com/presentation/d/1DDqShXR5WQCZuazHYl5hNpv3KHlQqY4maaMUkw2xl5c/edit#slide=id.p)\n",
    "* [Lists](https://docs.google.com/presentation/d/1KVPO2cINUivHNNisxbZNN6ITmVRx2UxRCeuLUzjm04o/edit#slide=id.p)\n",
    "* [Loops](https://docs.google.com/presentation/d/1W4fk_Y2KRHkUMFMKl4xSQGrVcwR_fgC7K5h5oBx5nOg/edit#slide=id.p)\n",
    "* [Functions](https://docs.google.com/presentation/d/1_HWyAkdMDT16M-5hJ46SVjaL68Ql_swESLVxYGdkSdM/edit#slide=id.p)\n",
    "* [Importing modules](https://docs.google.com/presentation/d/1laVXqNrO7Kcvw4Gnkx4SCRVF7PnBUWq7GEgzLaOz3cg/edit#slide=id.p)\n"
   ]
  },
  {
   "cell_type": "markdown",
   "metadata": {},
   "source": [
    "# The Jupyter notebook"
   ]
  },
  {
   "cell_type": "markdown",
   "metadata": {},
   "source": [
    "Hit \"Shift + Enter\" to run/execute any of these cells. \n",
    "\n"
   ]
  },
  {
   "cell_type": "code",
   "execution_count": null,
   "metadata": {},
   "outputs": [],
   "source": [
    "# This is code\n",
    "\n",
    "print(\"Hello world\")"
   ]
  },
  {
   "cell_type": "code",
   "execution_count": null,
   "metadata": {},
   "outputs": [],
   "source": [
    "x = 10\n",
    "print(x)"
   ]
  },
  {
   "cell_type": "markdown",
   "metadata": {},
   "source": [
    "This is Markdown.\n",
    "\n",
    "You can have [links](https://portal.hud.gov/hudportal/HUD) here if you want. \n",
    "\n",
    "Or *different* **types** of ***fonts***.\n",
    "\n",
    "* You can\n",
    "* even\n",
    "* have lists\n",
    "    * of different\n",
    "    * levels"
   ]
  },
  {
   "cell_type": "markdown",
   "metadata": {},
   "source": [
    "Once it is executed, the rest of the cells \"remember\" what was done in the previous cells. "
   ]
  },
  {
   "cell_type": "code",
   "execution_count": null,
   "metadata": {
    "collapsed": true
   },
   "outputs": [],
   "source": [
    "y = 20"
   ]
  },
  {
   "cell_type": "code",
   "execution_count": null,
   "metadata": {},
   "outputs": [],
   "source": [
    "print(y)"
   ]
  },
  {
   "cell_type": "markdown",
   "metadata": {},
   "source": [
    "# The basics"
   ]
  },
  {
   "cell_type": "code",
   "execution_count": null,
   "metadata": {
    "collapsed": true
   },
   "outputs": [],
   "source": [
    "# Comments \n",
    "# This \"hashtag/pound sign\" in front of anything means that it won't be \n",
    "# \"executed\""
   ]
  },
  {
   "cell_type": "code",
   "execution_count": null,
   "metadata": {},
   "outputs": [],
   "source": [
    "Make this line commented so we don't get an error"
   ]
  },
  {
   "cell_type": "code",
   "execution_count": null,
   "metadata": {
    "collapsed": true
   },
   "outputs": [],
   "source": [
    "# Uncomment the following lines to run them\n",
    "\n",
    "#words = \"you made me a believer\"\n",
    "#print(words)"
   ]
  },
  {
   "cell_type": "markdown",
   "metadata": {},
   "source": [
    "# Conditionals\n",
    "\n",
    "Conditionals are also called if/else statements. \n",
    "\n",
    "If something in your code is True or False, then do something!\n",
    "\n",
    "Note that python uses indenting (white space) to determine what is in the loop and what is not. "
   ]
  },
  {
   "cell_type": "code",
   "execution_count": null,
   "metadata": {},
   "outputs": [],
   "source": [
    "response = input(\"What is your name? \")\n",
    "\n",
    "if len(response)>10:\n",
    "    print(\"That is a long name!\")\n",
    "    \n",
    "elif len(response)<4:\n",
    "    print(\"That is a short name!\")\n",
    "\n",
    "else:\n",
    "    print(\"Nice to meet you, %s\" % (response))"
   ]
  },
  {
   "cell_type": "code",
   "execution_count": null,
   "metadata": {},
   "outputs": [],
   "source": [
    "print(10 < 3)"
   ]
  },
  {
   "cell_type": "code",
   "execution_count": null,
   "metadata": {},
   "outputs": [],
   "source": [
    "print(10 > 3)"
   ]
  },
  {
   "cell_type": "markdown",
   "metadata": {},
   "source": [
    "# Lists\n",
    "\n",
    "Lists are variables that can hold lots of other variables or information in them."
   ]
  },
  {
   "cell_type": "code",
   "execution_count": null,
   "metadata": {},
   "outputs": [],
   "source": [
    "x = []\n",
    "\n",
    "print(x)"
   ]
  },
  {
   "cell_type": "code",
   "execution_count": null,
   "metadata": {},
   "outputs": [],
   "source": [
    "# Now fill it with stuff!\n",
    "\n",
    "x.append(\"Ten\")\n",
    "x.append(10)\n",
    "x.append(10.0)\n",
    "x.append(0)\n",
    "\n",
    "print(x)"
   ]
  },
  {
   "cell_type": "code",
   "execution_count": null,
   "metadata": {},
   "outputs": [],
   "source": [
    "# Or just fill it right off the bat!\n",
    "\n",
    "x = [0,1,2,3,4]\n",
    "\n",
    "print(x)"
   ]
  },
  {
   "cell_type": "code",
   "execution_count": null,
   "metadata": {},
   "outputs": [],
   "source": [
    "# Can reference values in the list by their \"index\"\n",
    "\n",
    "# Counting starts at 0!\n",
    "\n",
    "x = [\"a\", \"b\", \"c\", \"d\", \"e\"]\n",
    "\n",
    "print(x[0])\n",
    "\n",
    "print(x[3],x[4])"
   ]
  },
  {
   "cell_type": "markdown",
   "metadata": {},
   "source": [
    "# Loops\n",
    "\n",
    "Sometimes you need to do something over and over again.\n",
    "\n",
    "Or you need to walk through a list to look for information.\n",
    "\n",
    "Note that again, indentation defines what is being done in the loop."
   ]
  },
  {
   "cell_type": "code",
   "execution_count": null,
   "metadata": {},
   "outputs": [],
   "source": [
    "# Loop through the elements of a list explicitly\n",
    "\n",
    "x = [0, 1, 2, 3, 4, 5, 6, 7, 8, 9, 10]\n",
    "\n",
    "for num in x:\n",
    "    print(num)"
   ]
  },
  {
   "cell_type": "code",
   "execution_count": null,
   "metadata": {},
   "outputs": [],
   "source": [
    "for num in x:\n",
    "    if num > 6:\n",
    "        print(num)"
   ]
  },
  {
   "cell_type": "code",
   "execution_count": null,
   "metadata": {},
   "outputs": [],
   "source": [
    "# Reference the \"index\"/\"place\" in the list. \n",
    "\n",
    "# Note that counting starts at 0!!!!!\n",
    "\n",
    "x = [\"a\", \"b\", \"c\", \"d\", \"e\"]\n",
    "\n",
    "for i in range(0,5):\n",
    "    print(x[i])"
   ]
  },
  {
   "cell_type": "markdown",
   "metadata": {},
   "source": [
    "# Functions\n",
    "\n",
    "Sometimes it is useful to write a little \"helper\" for tasks that you need to do over and over again. \n",
    "\n",
    "This \"helper\" (function) will usually take in some input and usually return some output. "
   ]
  },
  {
   "cell_type": "code",
   "execution_count": null,
   "metadata": {},
   "outputs": [],
   "source": [
    "# Imagine if you had to do this all the time. \n",
    "\n",
    "# Calculate a tip for good service. \n",
    "bill = 10.20\n",
    "service = \"good\"\n",
    "tip_rate = 0.20\n",
    "\n",
    "tip = bill*tip_rate\n",
    "\n",
    "print(\"On a bill of %0.2f for %s service, I gave a tip of %0.2f.\" % (bill, service, tip))\n",
    "\n",
    "# Calculate a tip for bad service. \n",
    "bill = 32.87\n",
    "service = \"bad\"\n",
    "tip_rate = 0.15\n",
    "\n",
    "tip = bill*tip_rate\n",
    "\n",
    "print(\"On a bill of %0.2f for %s service, I gave a tip of %0.2f.\" % (bill, service, tip))"
   ]
  },
  {
   "cell_type": "code",
   "execution_count": null,
   "metadata": {
    "collapsed": true
   },
   "outputs": [],
   "source": [
    "# Just write a function to to this\n",
    "\n",
    "def calculate_tip(bill, service):\n",
    "    \n",
    "    tip_rate = 0.0\n",
    "    \n",
    "    if service==\"good\":\n",
    "        tip_rate = 0.20\n",
    "    elif service==\"bad\":\n",
    "        tip_rate = 0.15\n",
    "        \n",
    "    tip = bill*tip_rate\n",
    "\n",
    "    print(\"On a bill of %0.2f for %s service, I gave a tip of %0.2f.\" % (bill, service, tip))\n",
    "    "
   ]
  },
  {
   "cell_type": "code",
   "execution_count": null,
   "metadata": {},
   "outputs": [],
   "source": [
    "# Nothing happens however until you \"call\" this function\n",
    "\n",
    "calculate_tip(5.67,\"bad\")\n",
    "calculate_tip(19.70,\"good\")\n",
    "calculate_tip(88.50,\"good\")"
   ]
  },
  {
   "cell_type": "markdown",
   "metadata": {},
   "source": [
    "# Importing modules\n",
    "\n",
    "There are lots and lots of good libraries/helper code already written by others. \n",
    "\n",
    "Just \"import\" it to use it!"
   ]
  },
  {
   "cell_type": "code",
   "execution_count": null,
   "metadata": {
    "collapsed": true
   },
   "outputs": [],
   "source": [
    "import numpy as np # Numeric tools\n",
    "\n",
    "import matplotlib.pylab as plt # Plotting tools\n",
    "\n",
    "# Just tells the plotting tools that we're running in a Jupyter notebook\n",
    "%matplotlib notebook "
   ]
  },
  {
   "cell_type": "code",
   "execution_count": null,
   "metadata": {},
   "outputs": [],
   "source": [
    "# Generate 1000 random points with a Gaussian (bell curve) distribution\n",
    "\n",
    "data = np.random.normal(50,10,1000)\n",
    "print(data)"
   ]
  },
  {
   "cell_type": "code",
   "execution_count": null,
   "metadata": {},
   "outputs": [],
   "source": [
    "# Plot it! With a histogram!\n",
    "\n",
    "plt.figure()\n",
    "plt.hist(data,bins=25, range=(0,100))\n",
    "plt.xlabel(\"My data\", fontsize=18)"
   ]
  },
  {
   "cell_type": "markdown",
   "metadata": {
    "collapsed": true
   },
   "source": [
    "# Dictionaries\n",
    "\n",
    "Dictionaries are another type of data holder that uses a key/value approach. \n",
    "\n",
    "A value can be referenced by name, effectively. "
   ]
  },
  {
   "cell_type": "code",
   "execution_count": null,
   "metadata": {},
   "outputs": [],
   "source": [
    "# Key/value pair are separated by colons. \n",
    "\n",
    "# Pairs are separated by commas. \n",
    "\n",
    "data = {\"name\":\"Matt\", \"age\": 47}\n",
    "\n",
    "# Then reference the values by their key\n",
    "\n",
    "print(data.keys())\n",
    "\n",
    "# This just adds a blank line\n",
    "print(\"\\n\")\n",
    "\n",
    "print(data[\"name\"],data[\"age\"])"
   ]
  },
  {
   "cell_type": "code",
   "execution_count": null,
   "metadata": {},
   "outputs": [],
   "source": [
    "# Add entries similarly\n",
    "\n",
    "data[\"hometown\"] = \"Jupiter, FL\"\n",
    "\n",
    "data[\"pets\"] = [\"Hector (cat)\", \"Artemis (cat)\", \"Squishy-mishy-fish (fish)\"]\n",
    "\n",
    "print(data)"
   ]
  },
  {
   "cell_type": "code",
   "execution_count": null,
   "metadata": {
    "collapsed": true
   },
   "outputs": [],
   "source": []
  }
 ],
 "metadata": {
  "kernelspec": {
   "display_name": "Python 3",
   "language": "python",
   "name": "python3"
  },
  "language_info": {
   "codemirror_mode": {
    "name": "ipython",
    "version": 3
   },
   "file_extension": ".py",
   "mimetype": "text/x-python",
   "name": "python",
   "nbconvert_exporter": "python",
   "pygments_lexer": "ipython3",
   "version": "3.6.2"
  }
 },
 "nbformat": 4,
 "nbformat_minor": 2
}
